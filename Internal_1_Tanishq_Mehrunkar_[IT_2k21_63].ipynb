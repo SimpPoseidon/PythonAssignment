{
  "nbformat": 4,
  "nbformat_minor": 0,
  "metadata": {
    "colab": {
      "provenance": [],
      "authorship_tag": "ABX9TyPhPqvaO5xj5I20879BJWe5",
      "include_colab_link": true
    },
    "kernelspec": {
      "name": "python3",
      "display_name": "Python 3"
    },
    "language_info": {
      "name": "python"
    }
  },
  "cells": [
    {
      "cell_type": "markdown",
      "metadata": {
        "id": "view-in-github",
        "colab_type": "text"
      },
      "source": [
        "<a href=\"https://colab.research.google.com/github/SimpPoseidon/PythonAssignment/blob/main/Internal_1_Tanishq_Mehrunkar_%5BIT_2k21_63%5D.ipynb\" target=\"_parent\"><img src=\"https://colab.research.google.com/assets/colab-badge.svg\" alt=\"Open In Colab\"/></a>"
      ]
    },
    {
      "cell_type": "markdown",
      "source": [
        "1. To implement all arithmetic, relational and logical operators."
      ],
      "metadata": {
        "id": "XFhmoxDUb3cH"
      }
    },
    {
      "cell_type": "code",
      "source": [
        "num1=int(input(\"Enter num 1: \"))\n",
        "num2=int(input(\"Enter num 2: \"))\n",
        "\n",
        "#--------------------------------arithmetic-------------------------------------#\n",
        "print(num1,\" + \",num2,\" = \",num1+num2)\n",
        "print(num1,\" - \",num2,\" = \",num1-num2)\n",
        "print(num1,\" x \",num2,\" = \",num1*num2)\n",
        "print(num1,\" / \",num2,\" = \",num1/num2)\n",
        "print(num1,\" % \",num2,\" = \",num1%num2)\n",
        "print(num1,\" ^ \",num2,\" = \",num1**num2)\n",
        "print(num1,\" // \",num2,\" = \",num1//num2)\n",
        "#--------------------------------relational-------------------------------------#\n",
        "print(\"Is \",num1,\" = \",num2,\" ? \",num1==num2)\n",
        "print(\"Is \",num1,\" > \",num2,\" ? \",num1>num2)\n",
        "print(\"Is \",num1,\" < \",num2,\" ? \",num1<num2)\n",
        "print(\"Is \",num1,\" != \",num2,\" ? \",num1!=num2)\n",
        "print(\"Is \",num1,\" >= \",num2,\" ? \",num1>=num2)\n",
        "print(\"Is \",num1,\" <= \",num2,\" ? \",num1<=num2)\n",
        "#--------------------------------logical-------------------------------------#\n",
        "if num1>0 and num2>0:\n",
        "    print(num1,\" and \",num2,\" are greater than 0\")\n",
        "if num1>0 or num2>0:\n",
        "    print(num1,\" or \",num2,\" is greater than 0\")\n",
        "if not(num1%2==0 and num2%2==0):\n",
        "    print(num1,\" or \",num2,\" is an odd number\")"
      ],
      "metadata": {
        "colab": {
          "base_uri": "https://localhost:8080/"
        },
        "id": "EEmT8O1lcFxm",
        "outputId": "347ed601-4466-46b7-ef2a-c40796b3ea9d"
      },
      "execution_count": null,
      "outputs": [
        {
          "output_type": "stream",
          "name": "stdout",
          "text": [
            "Enter num 1: 5\n",
            "Enter num 2: 4\n",
            "5  +  4  =  9\n",
            "5  -  4  =  1\n",
            "5  x  4  =  20\n",
            "5  /  4  =  1.25\n",
            "5  %  4  =  1\n",
            "5  ^  4  =  625\n",
            "5  //  4  =  1\n",
            "Is  5  =  4  ?  False\n",
            "Is  5  >  4  ?  True\n",
            "Is  5  <  4  ?  False\n",
            "Is  5  !=  4  ?  True\n",
            "Is  5  >=  4  ?  True\n",
            "Is  5  <=  4  ?  False\n",
            "5  and  4  are greater than 0\n",
            "5  or  4  is greater than 0\n",
            "5  or  4  is an odd number\n"
          ]
        }
      ]
    },
    {
      "cell_type": "markdown",
      "source": [
        "2. To check number is even or odd."
      ],
      "metadata": {
        "id": "YI3SKoOEcigf"
      }
    },
    {
      "cell_type": "code",
      "source": [
        "num=int(input(\"Enter the number: \"))\n",
        "\n",
        "if(num%2==0): print(num,\" is even\")\n",
        "else : print(num,\" is odd\")"
      ],
      "metadata": {
        "colab": {
          "base_uri": "https://localhost:8080/"
        },
        "id": "4s32wig7cnou",
        "outputId": "5f69322f-5c47-4e7d-eee2-d24b61469dbb"
      },
      "execution_count": null,
      "outputs": [
        {
          "output_type": "stream",
          "name": "stdout",
          "text": [
            "Enter the number: 4\n",
            "4  is even\n"
          ]
        }
      ]
    },
    {
      "cell_type": "markdown",
      "source": [
        "3. To check greater of a) two numbers b) three numbers"
      ],
      "metadata": {
        "id": "9vsHOYt1cuam"
      }
    },
    {
      "cell_type": "code",
      "source": [
        "num1=int(input(\"Enter number 1: \"))\n",
        "num2=int(input(\"Enter number 2: \"))\n",
        "\n",
        "if num1>num2:\n",
        "    print(num1,\" is greater\")\n",
        "elif num1<num2:\n",
        "    print(num2,\" is greater\")\n",
        "else:\n",
        "    print(\"Both are equal\")\n",
        "    "
      ],
      "metadata": {
        "colab": {
          "base_uri": "https://localhost:8080/"
        },
        "id": "r_rXuZyMdBP-",
        "outputId": "6d23f615-0c4f-40c2-e4dc-f73509f7da5f"
      },
      "execution_count": null,
      "outputs": [
        {
          "output_type": "stream",
          "name": "stdout",
          "text": [
            "Enter number 1: 5\n",
            "Enter number 2: 6\n",
            "6  is greater\n"
          ]
        }
      ]
    },
    {
      "cell_type": "code",
      "source": [
        "num1=int(input(\"Enter number 1: \"))\n",
        "num2=int(input(\"Enter number 2: \"))\n",
        "num3=int(input(\"Enter number 3: \"))\n",
        "\n",
        "if num1>=num2:\n",
        "    if num1>=num3:\n",
        "        print(num1,\" is greatest\")\n",
        "    else:\n",
        "        print(num3,\" is greatest\")\n",
        "else:\n",
        "    if(num2>=num3):\n",
        "        print(num2,\" is greatest\")\n",
        "    else:\n",
        "        print(num3,\" is greatest\")"
      ],
      "metadata": {
        "colab": {
          "base_uri": "https://localhost:8080/"
        },
        "id": "ayTfu6gxdJkF",
        "outputId": "673900d5-d927-44a7-cba0-5dcfb04a4fa7"
      },
      "execution_count": null,
      "outputs": [
        {
          "output_type": "stream",
          "name": "stdout",
          "text": [
            "Enter number 1: 4\n",
            "Enter number 2: 5\n",
            "Enter number 3: 6\n",
            "6  is greatest\n"
          ]
        }
      ]
    },
    {
      "cell_type": "markdown",
      "source": [
        "4. To find number is prime or composite."
      ],
      "metadata": {
        "id": "EyG2AG32dP31"
      }
    },
    {
      "cell_type": "code",
      "source": [
        "num=int(input(\"Enter the number: \"))\n",
        "\n",
        "count=0\n",
        "for a in range(2,num):\n",
        "    if num%a==0:\n",
        "        count=1\n",
        "        break\n",
        "if(count==1):\n",
        "    print(num, \" is composite\")\n",
        "else:\n",
        "    print(num,\" is prime\")"
      ],
      "metadata": {
        "colab": {
          "base_uri": "https://localhost:8080/"
        },
        "id": "IeKWD-WmdYue",
        "outputId": "c1a25e91-2211-4a39-8ffa-9f384b93cf3d"
      },
      "execution_count": null,
      "outputs": [
        {
          "output_type": "stream",
          "name": "stdout",
          "text": [
            "Enter the number: 13\n",
            "13  is prime\n"
          ]
        }
      ]
    },
    {
      "cell_type": "markdown",
      "source": [
        "5. To print all odd/even numbers in a range."
      ],
      "metadata": {
        "id": "Scl1dfafddFO"
      }
    },
    {
      "cell_type": "code",
      "source": [
        "start=int(input(\"Enter the start: \"))\n",
        "end=int(input(\"Enter the end: \"))\n",
        "\n",
        "#-----------------------------odd------------------------------#\n",
        "print(\"Odd:\")\n",
        "for a in range(start,end+1):\n",
        "    if a%2!=0:\n",
        "        print(a)\n",
        "#-----------------------------odd------------------------------#\n",
        "print(\"Even:\")\n",
        "for a in range(start,end+1):\n",
        "    if a%2==0:\n",
        "        print(a)"
      ],
      "metadata": {
        "colab": {
          "base_uri": "https://localhost:8080/"
        },
        "id": "HjtF9IJOdlnV",
        "outputId": "a1d9f186-7590-46c1-a9e4-87d49e8f189b"
      },
      "execution_count": null,
      "outputs": [
        {
          "output_type": "stream",
          "name": "stdout",
          "text": [
            "Enter the start: 5\n",
            "Enter the end: 20\n",
            "Odd:\n",
            "5\n",
            "7\n",
            "9\n",
            "11\n",
            "13\n",
            "15\n",
            "17\n",
            "19\n",
            "Even:\n",
            "6\n",
            "8\n",
            "10\n",
            "12\n",
            "14\n",
            "16\n",
            "18\n",
            "20\n"
          ]
        }
      ]
    },
    {
      "cell_type": "markdown",
      "source": [
        "6. To print all prime numbers in a range."
      ],
      "metadata": {
        "id": "D5bcmRzndqSF"
      }
    },
    {
      "cell_type": "code",
      "source": [
        "start=int(input(\"Enter the start: \"))\n",
        "end=int(input(\"Enter the end: \"))\n",
        "\n",
        "for a in range(start,end+1):\n",
        "    if a==1:\n",
        "        continue\n",
        "    for b in range(2,a):\n",
        "        if a%b==0:\n",
        "            break\n",
        "    else:\n",
        "        print(a)"
      ],
      "metadata": {
        "colab": {
          "base_uri": "https://localhost:8080/"
        },
        "id": "lPoKvmJZdvOl",
        "outputId": "b71537be-6c43-4399-bf14-b0e26a287bed"
      },
      "execution_count": null,
      "outputs": [
        {
          "output_type": "stream",
          "name": "stdout",
          "text": [
            "Enter the start: 5\n",
            "Enter the end: 20\n",
            "5\n",
            "7\n",
            "11\n",
            "13\n",
            "17\n",
            "19\n"
          ]
        }
      ]
    },
    {
      "cell_type": "markdown",
      "source": [
        "7. To find reverse of a number."
      ],
      "metadata": {
        "id": "fAeHh_6Bd5dt"
      }
    },
    {
      "cell_type": "code",
      "source": [
        "num=int(input(\"Enter the number: \"))\n",
        "res=0\n",
        "while num!=0:\n",
        "    rem=num%10\n",
        "    res=rem+res*10\n",
        "    num=num//10\n",
        "print(res)"
      ],
      "metadata": {
        "colab": {
          "base_uri": "https://localhost:8080/"
        },
        "id": "q9tFr8mEeBRl",
        "outputId": "228b6af4-c0b4-4c11-9392-8a44432398cc"
      },
      "execution_count": null,
      "outputs": [
        {
          "output_type": "stream",
          "name": "stdout",
          "text": [
            "Enter the number: 3541\n",
            "1453\n"
          ]
        }
      ]
    },
    {
      "cell_type": "markdown",
      "source": [
        "8. To find number is palindrome or not."
      ],
      "metadata": {
        "id": "pH-4kSaxeGfl"
      }
    },
    {
      "cell_type": "code",
      "source": [
        "num=int(input(\"Enter the number: \"))\n",
        "a=num\n",
        "res=0\n",
        "while num!=0:\n",
        "    rem=num%10\n",
        "    res=rem+res*10\n",
        "    num=num//10\n",
        "if a==res:\n",
        "    print(a, \"is palindrome\")\n",
        "else:\n",
        "    print(a, \" is not a palindrome\")"
      ],
      "metadata": {
        "colab": {
          "base_uri": "https://localhost:8080/"
        },
        "id": "8mqFAB8SeLHN",
        "outputId": "fa7b993b-0d80-490c-fd61-37291c81976e"
      },
      "execution_count": null,
      "outputs": [
        {
          "output_type": "stream",
          "name": "stdout",
          "text": [
            "Enter the number: 1215121\n",
            "1215121 is palindrome\n"
          ]
        }
      ]
    },
    {
      "cell_type": "markdown",
      "source": [
        "9. To check number is armstrong or not."
      ],
      "metadata": {
        "id": "OB-VZBNYeSyO"
      }
    },
    {
      "cell_type": "code",
      "source": [
        "num=int(input(\"Enter the number: \"))\n",
        "\n",
        "s=0\n",
        "a=num\n",
        "while num!=0:\n",
        "    rem=num%10\n",
        "    num=num//10\n",
        "    s+=rem**3\n",
        "if s==a:\n",
        "    print(a,\"is an armstrong\")\n",
        "else:\n",
        "    print(a,\"is not an armstrong\")"
      ],
      "metadata": {
        "colab": {
          "base_uri": "https://localhost:8080/"
        },
        "id": "a3apuWQYeYK9",
        "outputId": "e1b3b169-ca56-45eb-9693-647e68a95e13"
      },
      "execution_count": null,
      "outputs": [
        {
          "output_type": "stream",
          "name": "stdout",
          "text": [
            "Enter the number: 153\n",
            "153 is an armstrong\n"
          ]
        }
      ]
    },
    {
      "cell_type": "markdown",
      "source": [
        "10. To print all armstrong numbers in a range."
      ],
      "metadata": {
        "id": "MWtshwXQenRy"
      }
    },
    {
      "cell_type": "code",
      "source": [
        "start=int(input(\"Enter the start: \"))\n",
        "end=int(input(\"Enter the end: \"))\n",
        "\n",
        "for a in range(start,end+1):\n",
        "    b=a\n",
        "    s=0\n",
        "    while a!=0:\n",
        "        rem=a%10\n",
        "        a=a//10\n",
        "        s+=rem**3\n",
        "    if b==s: print(b)"
      ],
      "metadata": {
        "colab": {
          "base_uri": "https://localhost:8080/"
        },
        "id": "qymeuGEyes2d",
        "outputId": "0b889708-eff0-41c0-e352-b2376c322182"
      },
      "execution_count": null,
      "outputs": [
        {
          "output_type": "stream",
          "name": "stdout",
          "text": [
            "Enter the start: 0\n",
            "Enter the end: 200\n",
            "0\n",
            "1\n",
            "153\n"
          ]
        }
      ]
    },
    {
      "cell_type": "markdown",
      "source": [
        "11. To find sum of first 'n' natural numbers."
      ],
      "metadata": {
        "id": "-m_v95eje4i8"
      }
    },
    {
      "cell_type": "code",
      "source": [
        "n=int(input(\"Enter n: \"));\n",
        "\n",
        "s=0;\n",
        "for a in range(1,n+1):\n",
        "    s+=a;\n",
        "print(\"Sum of first \",n,\" natural numbers is: \",s);"
      ],
      "metadata": {
        "colab": {
          "base_uri": "https://localhost:8080/"
        },
        "id": "SfVcBBX_fABk",
        "outputId": "c50ed17a-f636-49c2-fa50-d2414656eed3"
      },
      "execution_count": null,
      "outputs": [
        {
          "output_type": "stream",
          "name": "stdout",
          "text": [
            "Enter n: 10\n",
            "Sum of first  10  natural numbers is:  55\n"
          ]
        }
      ]
    },
    {
      "cell_type": "markdown",
      "source": [
        "12. To find factorial of a given number."
      ],
      "metadata": {
        "id": "34-mj1v6feYM"
      }
    },
    {
      "cell_type": "code",
      "source": [
        "num=int(input(\"Enter the number: \"));\n",
        "\n",
        "fact=1;\n",
        "for a in range(1,num+1):\n",
        "    fact*=a;\n",
        "print(\"Factorial of \",num,\" is: \",fact);"
      ],
      "metadata": {
        "colab": {
          "base_uri": "https://localhost:8080/"
        },
        "id": "h7OIfijZflb0",
        "outputId": "d46ec052-a4ae-4450-dcdb-32920b078bc5"
      },
      "execution_count": null,
      "outputs": [
        {
          "output_type": "stream",
          "name": "stdout",
          "text": [
            "Enter the number: 5\n",
            "Factorial of  5  is:  120\n"
          ]
        }
      ]
    },
    {
      "cell_type": "markdown",
      "source": [
        "13. To print fibonacci series upto n terms."
      ],
      "metadata": {
        "id": "6mdNhnc1gXm8"
      }
    },
    {
      "cell_type": "code",
      "source": [
        "n=int(input(\"Enter n: \"));\n",
        "\n",
        "first=0;second=1;\n",
        "print(first);\n",
        "print(second);\n",
        "for a in range(n-2):\n",
        "    third=first+second;\n",
        "    print(third);\n",
        "    first,second=second,third;"
      ],
      "metadata": {
        "colab": {
          "base_uri": "https://localhost:8080/"
        },
        "id": "lnD4cWC3gc_8",
        "outputId": "5a23690c-0014-4b44-8890-0e2dbdfe1935"
      },
      "execution_count": null,
      "outputs": [
        {
          "output_type": "stream",
          "name": "stdout",
          "text": [
            "Enter n: 10\n",
            "0\n",
            "1\n",
            "1\n",
            "2\n",
            "3\n",
            "5\n",
            "8\n",
            "13\n",
            "21\n",
            "34\n"
          ]
        }
      ]
    },
    {
      "cell_type": "markdown",
      "source": [
        "14. To check year is leap year or not."
      ],
      "metadata": {
        "id": "0UnC-78IgiMc"
      }
    },
    {
      "cell_type": "code",
      "source": [
        "year=int(input(\"Enter the year: \"));\n",
        "\n",
        "if year%4==0:\n",
        "    if year%100==0:\n",
        "        if(year%400==0):\n",
        "            print(year, \"is a leap year\");\n",
        "        else:\n",
        "            print(year, \"is not a leap year\");\n",
        "    else:\n",
        "        print(year, \"is a leap year\");\n",
        "else:\n",
        "    print(year, \"is not a leap year\");"
      ],
      "metadata": {
        "colab": {
          "base_uri": "https://localhost:8080/"
        },
        "id": "ML1f0Xqagnek",
        "outputId": "0ad9da69-d826-4c52-dba3-de24e64c1760"
      },
      "execution_count": null,
      "outputs": [
        {
          "output_type": "stream",
          "name": "stdout",
          "text": [
            "Enter the year: 1992\n",
            "1992 is a leap year\n"
          ]
        }
      ]
    },
    {
      "cell_type": "markdown",
      "source": [
        "15. To print temperature in celsius/fahrenheit and vice versa."
      ],
      "metadata": {
        "id": "1utcjwk0g1Vk"
      }
    },
    {
      "cell_type": "code",
      "source": [
        "temp=float(input(\"Enter the temperature in Celsius: \"));\n",
        "print(\"Temperature in Fahrenheit is: \",((9/5)*temp)+32);\n",
        "\n",
        "temp2=float(input(\"Enter the temperature in Fahrenheit: \"));\n",
        "print(\"Temperature in Celsius is: \",((temp2)-32)*(5/9));"
      ],
      "metadata": {
        "colab": {
          "base_uri": "https://localhost:8080/"
        },
        "id": "69y3hp5bg9W7",
        "outputId": "5d275b56-311b-40c7-ddb3-71c68c87a5ce"
      },
      "execution_count": null,
      "outputs": [
        {
          "output_type": "stream",
          "name": "stdout",
          "text": [
            "Enter the temperature in Celsius: 32\n",
            "Temperature in Fahrenheit is:  89.6\n",
            "Enter the temperature in Fahrenheit: 89.6\n",
            "Temperature in Celsius is:  32.0\n"
          ]
        }
      ]
    },
    {
      "cell_type": "markdown",
      "source": [
        "16. To print all factors of a given number using a function."
      ],
      "metadata": {
        "id": "I8rdcR6JhHfb"
      }
    },
    {
      "cell_type": "code",
      "source": [
        "num=int(input(\"Enter the number: \"));\n",
        "\n",
        "def facto(n):\n",
        "    for a in range(1,n+1):\n",
        "        if n%a==0:\n",
        "            print(a);\n",
        "\n",
        "facto(num);"
      ],
      "metadata": {
        "colab": {
          "base_uri": "https://localhost:8080/"
        },
        "id": "lk77MeLchPHT",
        "outputId": "584d924e-2c17-4e65-e24c-bfadab5d5eb6"
      },
      "execution_count": null,
      "outputs": [
        {
          "output_type": "stream",
          "name": "stdout",
          "text": [
            "Enter the number: 20\n",
            "1\n",
            "2\n",
            "4\n",
            "5\n",
            "10\n",
            "20\n"
          ]
        }
      ]
    },
    {
      "cell_type": "markdown",
      "source": [
        "17. To convert decimal to binary,octal and hexadecimal using library function."
      ],
      "metadata": {
        "id": "d-Ix_ERxhUbr"
      }
    },
    {
      "cell_type": "code",
      "source": [
        "num=int(input(\"Enter the number: \"));\n",
        "\n",
        "print(\"Binary:\",bin(num));\n",
        "print(\"Octal:\",oct(num));\n",
        "print(\"Hexadecimal:\",hex(num));"
      ],
      "metadata": {
        "colab": {
          "base_uri": "https://localhost:8080/"
        },
        "id": "Uvm69jQ3herr",
        "outputId": "0e7146fc-1245-418e-877c-ecb07d686d5a"
      },
      "execution_count": null,
      "outputs": [
        {
          "output_type": "stream",
          "name": "stdout",
          "text": [
            "Enter the number: 2\n",
            "Binary: 0b10\n",
            "Octal: 0o2\n",
            "Hexadecimal: 0x2\n"
          ]
        }
      ]
    },
    {
      "cell_type": "markdown",
      "source": [
        "18. To find factorial of a number by developing function."
      ],
      "metadata": {
        "id": "fZD1gQochmx7"
      }
    },
    {
      "cell_type": "code",
      "source": [
        "num=int(input(\"Enter a number: \"));\n",
        "\n",
        "def facto(n):\n",
        "    fact=1;a=1;\n",
        "    while a!=n+1:\n",
        "        fact*=a;\n",
        "        a+=1;\n",
        "    return fact;\n",
        "\n",
        "print(\"Factorial of\",num,\"is:\",facto(num));"
      ],
      "metadata": {
        "colab": {
          "base_uri": "https://localhost:8080/"
        },
        "id": "yQvReHtYhuLi",
        "outputId": "faadc57b-410a-475a-afd4-fb1a9cb9bace"
      },
      "execution_count": null,
      "outputs": [
        {
          "output_type": "stream",
          "name": "stdout",
          "text": [
            "Enter a number: 5\n",
            "Factorial of 5 is: 120\n"
          ]
        }
      ]
    },
    {
      "cell_type": "markdown",
      "source": [
        "19. To print fibonacci series using recursion."
      ],
      "metadata": {
        "id": "8Umb-M5Qh3Wj"
      }
    },
    {
      "cell_type": "code",
      "source": [
        "n=int(input(\"Enter n: \"));\n",
        "\n",
        "first,second=0,1;\n",
        "print(first);\n",
        "print(second);\n",
        "def fibo(f,s,n):\n",
        "    if(n==0):return;\n",
        "    t=f+s;\n",
        "    print(t);\n",
        "    f,s=s,t;\n",
        "    n=n-1;\n",
        "    fibo(f,s,n);\n",
        "fibo(first,second,n-2);"
      ],
      "metadata": {
        "colab": {
          "base_uri": "https://localhost:8080/"
        },
        "id": "m4tuzxyOh-x7",
        "outputId": "9ea071ae-e77b-41ee-bad5-319548828256"
      },
      "execution_count": null,
      "outputs": [
        {
          "output_type": "stream",
          "name": "stdout",
          "text": [
            "Enter n: 10\n",
            "0\n",
            "1\n",
            "1\n",
            "2\n",
            "3\n",
            "5\n",
            "8\n",
            "13\n",
            "21\n",
            "34\n"
          ]
        }
      ]
    },
    {
      "cell_type": "markdown",
      "source": [
        "20. To print factorial of a number using recursion."
      ],
      "metadata": {
        "id": "uCnMafK3iLTT"
      }
    },
    {
      "cell_type": "code",
      "source": [
        "num=int(input(\"Enter the number: \"));\n",
        "\n",
        "def facto(n):\n",
        "    if n==1:return n;\n",
        "    return n*facto(n-1);\n",
        "print(\"Factorial of\",num,\"is:\",facto(num));"
      ],
      "metadata": {
        "colab": {
          "base_uri": "https://localhost:8080/"
        },
        "id": "-pb2bDBqiSY6",
        "outputId": "3df71e25-0113-4943-df91-c8e5e38a333b"
      },
      "execution_count": null,
      "outputs": [
        {
          "output_type": "stream",
          "name": "stdout",
          "text": [
            "Enter the number: 5\n",
            "Factorial of 5 is: 120\n"
          ]
        }
      ]
    },
    {
      "cell_type": "markdown",
      "source": [
        "21. To find sum of first 'n' natural numbers using recursion."
      ],
      "metadata": {
        "id": "AU60YREoiYLq"
      }
    },
    {
      "cell_type": "code",
      "source": [
        "n=int(input(\"Enter n: \"));\n",
        "\n",
        "def func(n):\n",
        "    if n==1: return n;\n",
        "    return n+func(n-1);\n",
        "print(\"Sum of first\",n,\"natural numbers is:\",func(n));"
      ],
      "metadata": {
        "colab": {
          "base_uri": "https://localhost:8080/"
        },
        "id": "IHJpPO-7ifEy",
        "outputId": "0c169ec8-dc20-45fa-b568-e4969e0bfb1e"
      },
      "execution_count": null,
      "outputs": [
        {
          "output_type": "stream",
          "name": "stdout",
          "text": [
            "Enter n: 10\n",
            "Sum of first 10 natural numbers is: 55\n"
          ]
        }
      ]
    },
    {
      "cell_type": "markdown",
      "source": [
        "22. To convert decimal to binary number using recursion."
      ],
      "metadata": {
        "id": "WHGAfP6vikIS"
      }
    },
    {
      "cell_type": "code",
      "source": [
        "num=int(input(\"Enter the decimal number: \"));\n",
        "\n",
        "def func(n):\n",
        "    if n>1:\n",
        "        func(n//2);\n",
        "    print(n%2,end=\"\");\n",
        "\n",
        "print(\"Binary for\",num,\"is:\",end=\" \");\n",
        "func(num);"
      ],
      "metadata": {
        "colab": {
          "base_uri": "https://localhost:8080/"
        },
        "id": "Tlay7zMLiqj7",
        "outputId": "fbd5b0e0-727c-4bf0-9056-770a7c51f144"
      },
      "execution_count": null,
      "outputs": [
        {
          "output_type": "stream",
          "name": "stdout",
          "text": [
            "Enter the decimal number: 2\n",
            "Binary for 2 is: 10"
          ]
        }
      ]
    },
    {
      "cell_type": "markdown",
      "source": [
        "23. Write python program to display powers of 2 using anonymous function."
      ],
      "metadata": {
        "id": "jBauRJskiw5S"
      }
    },
    {
      "cell_type": "code",
      "source": [
        "terms = int(input(\"How many terms? \"))\n",
        "result = (lambda x: x**2)\n",
        "for i in range(terms):\n",
        "   print(i,\"raised to power 2 is\",result(i))"
      ],
      "metadata": {
        "colab": {
          "base_uri": "https://localhost:8080/"
        },
        "id": "ZwriAdiQjGGh",
        "outputId": "8cee0c0b-1787-4ce3-cd1f-13bb150eeb19"
      },
      "execution_count": null,
      "outputs": [
        {
          "output_type": "stream",
          "name": "stdout",
          "text": [
            "How many terms? 5\n",
            "0 raised to power 2 is 0\n",
            "1 raised to power 2 is 1\n",
            "2 raised to power 2 is 4\n",
            "3 raised to power 2 is 9\n",
            "4 raised to power 2 is 16\n"
          ]
        }
      ]
    },
    {
      "cell_type": "markdown",
      "source": [
        "24. Write a python program to find area of triangle,circle and cylinder using lambda function."
      ],
      "metadata": {
        "id": "pcHmMPKMkAxa"
      }
    },
    {
      "cell_type": "code",
      "source": [
        "print(\"Enter sides of triangle: \");\n",
        "a=int(input(\"Enter a: \"));\n",
        "b=int(input(\"Enter b: \"));\n",
        "c=int(input(\"Enter c: \"));\n",
        "\n",
        "s=(a+b+c)/2;\n",
        "triangle=lambda a,b,c,s:(s*(s-a)*(s-b)*(s-c))**0.5;\n",
        "print(\"Area of triangle is:\",triangle(a,b,c,s));\n",
        "\n",
        "r1=int(input(\"Enter radius of circle: \"));\n",
        "circle=lambda r:(3.1415*r**2);\n",
        "print(\"Area of circle is:\",circle(r1));\n",
        "\n",
        "r2=int(input(\"Enter radius of cylinder: \"));\n",
        "h=int(input(\"Enter height of cylinder: \"));\n",
        "cylinder=lambda r,h:(3.1415*2*r**2+3.1415*r*h*2);\n",
        "print(\"TSA of cylinder is:\",cylinder(r2,h));"
      ],
      "metadata": {
        "colab": {
          "base_uri": "https://localhost:8080/"
        },
        "id": "IUFGMAFjkQLx",
        "outputId": "99c8cd11-72af-4562-8423-59e841c27920"
      },
      "execution_count": null,
      "outputs": [
        {
          "output_type": "stream",
          "name": "stdout",
          "text": [
            "Enter sides of triangle: \n",
            "Enter a: 5\n",
            "Enter b: 6\n",
            "Enter c: 7\n",
            "Area of triangle is: 14.696938456699069\n",
            "Enter radius of circle: 2\n",
            "Area of circle is: 12.566\n",
            "Enter radius of cylinder: 5\n",
            "Enter height of cylinder: 4\n",
            "TSA of cylinder is: 282.735\n"
          ]
        }
      ]
    },
    {
      "cell_type": "markdown",
      "source": [
        "25. Write a python program to add two matrices."
      ],
      "metadata": {
        "id": "qZvluiY6kq3g"
      }
    },
    {
      "cell_type": "code",
      "source": [
        "m1=[]\n",
        "m2=[]\n",
        "m3=[]\n",
        "\n",
        "col=int(input(\"Enter columns: \"));\n",
        "row=int(input(\"Enter rows: \"));\n",
        "\n",
        "for a in range(row):\n",
        "    Col=[]\n",
        "    for b in range(col):\n",
        "        Col.append(int(input(\"Enter the element: \")));\n",
        "    m1.append(Col);\n",
        "\n",
        "for a in range(row):\n",
        "    Col=[]\n",
        "    for b in range(col):\n",
        "        Col.append(int(input(\"Enter the element: \")));\n",
        "    m2.append(Col);\n",
        "\n",
        "for a in range(row):\n",
        "    Col=[]\n",
        "    for b in range(col):\n",
        "        Col.append(0);\n",
        "    m3.append(Col);\n",
        "\n",
        "for a in range(row):\n",
        "    for b in range(col):\n",
        "        m3[a][b]=m1[a][b]+m2[a][b];\n",
        "\n",
        "for a in range(row):\n",
        "    for b in range(col):\n",
        "        print(m3[a][b],end=\" \");\n",
        "    print();"
      ],
      "metadata": {
        "colab": {
          "base_uri": "https://localhost:8080/"
        },
        "id": "Wsl7WqspkxoI",
        "outputId": "11bab674-4827-4bf9-cc8f-04697892e86a"
      },
      "execution_count": null,
      "outputs": [
        {
          "output_type": "stream",
          "name": "stdout",
          "text": [
            "Enter columns: 2\n",
            "Enter rows: 2\n",
            "Enter the element: 1\n",
            "Enter the element: 2\n",
            "Enter the element: 1\n",
            "Enter the element: 2\n",
            "Enter the element: 1\n",
            "Enter the element: 2\n",
            "Enter the element: 1\n",
            "Enter the element: 2\n",
            "2 4 \n",
            "2 4 \n"
          ]
        }
      ]
    },
    {
      "cell_type": "markdown",
      "source": [
        "26. Write a python program to multiply two matrices."
      ],
      "metadata": {
        "id": "OYgWl4gQk65h"
      }
    },
    {
      "cell_type": "code",
      "source": [
        "m1=[]\n",
        "m2=[]\n",
        "m3=[]\n",
        "\n",
        "col=int(input(\"Enter columns: \"));\n",
        "row=int(input(\"Enter rows: \"));\n",
        "\n",
        "for a in range(row):\n",
        "    Col=[]\n",
        "    for b in range(col):\n",
        "        Col.append(int(input(\"Enter the element: \")));\n",
        "    m1.append(Col);\n",
        "\n",
        "for a in range(row):\n",
        "    Col=[]\n",
        "    for b in range(col):\n",
        "        Col.append(int(input(\"Enter the element: \")));\n",
        "    m2.append(Col);\n",
        "\n",
        "for a in range(row):\n",
        "    Col=[]\n",
        "    for b in range(col):\n",
        "        Col.append(0);\n",
        "    m3.append(Col);\n",
        "\n",
        "for a in range(row):\n",
        "    for b in range(col):\n",
        "        for c in range(row):\n",
        "            m3[a][b]+=m1[a][c]*m2[c][b];\n",
        "\n",
        "for a in range(row):\n",
        "    for b in range(col):\n",
        "        print(m3[a][b],end=\" \");\n",
        "    print();"
      ],
      "metadata": {
        "colab": {
          "base_uri": "https://localhost:8080/"
        },
        "id": "E-uu7WGZlAk5",
        "outputId": "e1918ba8-787d-4762-c508-7df7406797cf"
      },
      "execution_count": null,
      "outputs": [
        {
          "output_type": "stream",
          "name": "stdout",
          "text": [
            "Enter columns: 2\n",
            "Enter rows: 2\n",
            "Enter the element: 1\n",
            "Enter the element: 2\n",
            "Enter the element: 1\n",
            "Enter the element: 2\n",
            "Enter the element: 1\n",
            "Enter the element: 2\n",
            "Enter the element: 1\n",
            "Enter the element: 2\n",
            "3 6 \n",
            "3 6 \n"
          ]
        }
      ]
    },
    {
      "cell_type": "markdown",
      "source": [
        "27. Write a python program to transpose a matrix."
      ],
      "metadata": {
        "id": "NH1G0SHrlYDp"
      }
    },
    {
      "cell_type": "code",
      "source": [
        "m1=[]\n",
        "m2=[]\n",
        "\n",
        "col=int(input(\"Enter columns: \"));\n",
        "row=int(input(\"Enter rows: \"));\n",
        "\n",
        "for a in range(row):\n",
        "    Col=[]\n",
        "    for b in range(col):\n",
        "        Col.append(int(input(\"Enter the element: \")));\n",
        "    m1.append(Col);\n",
        "\n",
        "for a in range(row):\n",
        "    Col=[]\n",
        "    for b in range(col):\n",
        "        Col.append(0);\n",
        "    m2.append(Col);\n",
        "\n",
        "for a in range(row):\n",
        "    for b in range(col):\n",
        "        m2[a][b]=m1[b][a];\n",
        "\n",
        "for a in range(row):\n",
        "    for b in range(col):\n",
        "        print(m2[a][b],end=\" \");\n",
        "    print();"
      ],
      "metadata": {
        "colab": {
          "base_uri": "https://localhost:8080/"
        },
        "id": "jMGEjFk2ldS4",
        "outputId": "8ea5d059-1e29-4eae-e9cb-c8c75a9ec386"
      },
      "execution_count": null,
      "outputs": [
        {
          "output_type": "stream",
          "name": "stdout",
          "text": [
            "Enter columns: 3\n",
            "Enter rows: 3\n",
            "Enter the element: 1\n",
            "Enter the element: 2\n",
            "Enter the element: 3\n",
            "Enter the element: 1\n",
            "Enter the element: 2\n",
            "Enter the element: 3\n",
            "Enter the element: 1\n",
            "Enter the element: 2\n",
            "Enter the element: 3\n",
            "1 1 1 \n",
            "2 2 2 \n",
            "3 3 3 \n"
          ]
        }
      ]
    },
    {
      "cell_type": "markdown",
      "source": [
        "28. Write a python program to find average of a numeric list."
      ],
      "metadata": {
        "id": "LnVKKGfKlrKo"
      }
    },
    {
      "cell_type": "code",
      "source": [
        "lst=list(map(int,input(\"Enter the list: \").split()));\n",
        "\n",
        "print(\"Average of the numeric list is:\",sum(lst)/len(lst));"
      ],
      "metadata": {
        "colab": {
          "base_uri": "https://localhost:8080/"
        },
        "id": "0HUEivZwl0pw",
        "outputId": "9f3c565e-7f4a-4869-a913-1eb8db24c0c1"
      },
      "execution_count": null,
      "outputs": [
        {
          "output_type": "stream",
          "name": "stdout",
          "text": [
            "Enter the list: 1 2 3 4 5\n",
            "Average of the numeric list is: 3.0\n"
          ]
        }
      ]
    },
    {
      "cell_type": "markdown",
      "source": [
        "29. Write a python program to access members of list using different variations of slice operation."
      ],
      "metadata": {
        "id": "Wz0dnMnBl6NY"
      }
    },
    {
      "cell_type": "code",
      "source": [
        "lst=[1,2,3,4,5,6,7,8,9,10];\n",
        "\n",
        "print(lst[:]);\n",
        "print(lst[5:]);\n",
        "print(lst[:7]);\n",
        "print(lst[::2]);\n",
        "print(lst[2:8:2]);\n",
        "print(lst[-4:]);\n",
        "print(lst[:-5]);\n",
        "print(lst[-7:-2]);\n",
        "print(lst[::-2]);\n",
        "print(lst[-2:-7:-2]);\n",
        "print(lst[-7:-2:2]);"
      ],
      "metadata": {
        "colab": {
          "base_uri": "https://localhost:8080/"
        },
        "id": "21Bf35_nmIVA",
        "outputId": "a5d539a4-f6da-4887-9939-e13cb2e3d6ef"
      },
      "execution_count": null,
      "outputs": [
        {
          "output_type": "stream",
          "name": "stdout",
          "text": [
            "[1, 2, 3, 4, 5, 6, 7, 8, 9, 10]\n",
            "[6, 7, 8, 9, 10]\n",
            "[1, 2, 3, 4, 5, 6, 7]\n",
            "[1, 3, 5, 7, 9]\n",
            "[3, 5, 7]\n",
            "[7, 8, 9, 10]\n",
            "[1, 2, 3, 4, 5]\n",
            "[4, 5, 6, 7, 8]\n",
            "[10, 8, 6, 4, 2]\n",
            "[9, 7, 5]\n",
            "[4, 6, 8]\n"
          ]
        }
      ]
    },
    {
      "cell_type": "markdown",
      "source": [
        "30. Write a python program to concatenate two lists."
      ],
      "metadata": {
        "id": "CAskFPy5mMuo"
      }
    },
    {
      "cell_type": "code",
      "source": [
        "lst1=list(map(int,input(\"Enter the list: \").split()));\n",
        "lst2=list(map(int,input(\"Enter the list: \").split()));\n",
        "\n",
        "lst3=lst1+lst2;\n",
        "print(lst3);"
      ],
      "metadata": {
        "colab": {
          "base_uri": "https://localhost:8080/"
        },
        "id": "1tEk6m6PmUxY",
        "outputId": "4f61bab0-938f-44c9-88a7-5e2a50c55137"
      },
      "execution_count": null,
      "outputs": [
        {
          "output_type": "stream",
          "name": "stdout",
          "text": [
            "Enter the list: 1 2 3 4\n",
            "Enter the list: 5 6 7\n",
            "[1, 2, 3, 4, 5, 6, 7]\n"
          ]
        }
      ]
    },
    {
      "cell_type": "markdown",
      "source": [
        "31. Write a python program to find index of a specific element and print number of occurrences."
      ],
      "metadata": {
        "id": "wKdnZHKGmayQ"
      }
    },
    {
      "cell_type": "code",
      "source": [
        "lst=list(map(int,input(\"Enter the list: \").split()));\n",
        "num=int(input(\"Enter the element: \"));\n",
        "\n",
        "count=0;\n",
        "for a in range(len(lst)):\n",
        "    if lst[a]==num:\n",
        "        print(num,\"found at position\",a+1);\n",
        "        count+=1;\n",
        "\n",
        "print(\"Element\",num,\"has occured\",count,\"times\");"
      ],
      "metadata": {
        "colab": {
          "base_uri": "https://localhost:8080/"
        },
        "id": "Y8ddb-RhnD3H",
        "outputId": "f7e683e0-440c-45aa-c1e4-ba6127d9b026"
      },
      "execution_count": null,
      "outputs": [
        {
          "output_type": "stream",
          "name": "stdout",
          "text": [
            "Enter the list: 1 2 3 2 1 2\n",
            "Enter the element: 2\n",
            "2 found at position 2\n",
            "2 found at position 4\n",
            "2 found at position 6\n",
            "Element 2 has occured 3 times\n"
          ]
        }
      ]
    },
    {
      "cell_type": "markdown",
      "source": [
        "32. Write a python program to identify duplicates in a list."
      ],
      "metadata": {
        "id": "VQd7MG4anQXf"
      }
    },
    {
      "cell_type": "code",
      "source": [
        "lst=list(map(int,input(\"Enter the list: \").split()));\n",
        "\n",
        "repeated = [];\n",
        "for i in range(len(lst)):\n",
        "    k = i + 1;\n",
        "    for j in range(k,len(lst)):\n",
        "        if lst[i] == lst[j] and lst[i] not in repeated:\n",
        "            repeated.append(lst[i]);\n",
        "print(repeated);"
      ],
      "metadata": {
        "colab": {
          "base_uri": "https://localhost:8080/"
        },
        "id": "Ik-VTitznXdv",
        "outputId": "c05171a6-3a53-4fc4-9c08-25abe0325eab"
      },
      "execution_count": null,
      "outputs": [
        {
          "output_type": "stream",
          "name": "stdout",
          "text": [
            "Enter the list: 1 2 2 3 1\n",
            "[1, 2]\n"
          ]
        }
      ]
    },
    {
      "cell_type": "markdown",
      "source": [
        "33. Write a python program to iterate over dictionary using for loop. [print all keys,values and items with and without using inbuilt methods]"
      ],
      "metadata": {
        "id": "VVMUF6c8neqn"
      }
    },
    {
      "cell_type": "code",
      "source": [
        "dict1={1:\"one\",2:\"two\",3:\"three\",4:\"four\"};\n",
        "\n",
        "for i in dict1:\n",
        "    print(dict1[i]);\n",
        "for i in dict1:\n",
        "    print(i);\n",
        "for key,val in dict1.items():\n",
        "    print(key,val);\n",
        "for i in dict1.keys():\n",
        "    print(i);\n",
        "for i in dict1.values():\n",
        "    print(i);"
      ],
      "metadata": {
        "colab": {
          "base_uri": "https://localhost:8080/"
        },
        "id": "TfnD-r-Dn2A2",
        "outputId": "07ae7b51-10df-4419-e83b-a80742a9c925"
      },
      "execution_count": null,
      "outputs": [
        {
          "output_type": "stream",
          "name": "stdout",
          "text": [
            "one\n",
            "two\n",
            "three\n",
            "four\n",
            "1\n",
            "2\n",
            "3\n",
            "4\n",
            "1 one\n",
            "2 two\n",
            "3 three\n",
            "4 four\n",
            "1\n",
            "2\n",
            "3\n",
            "4\n",
            "one\n",
            "two\n",
            "three\n",
            "four\n"
          ]
        }
      ]
    },
    {
      "cell_type": "markdown",
      "source": [
        "34. Write a python program to illustrate a nested dictionary."
      ],
      "metadata": {
        "id": "oZwv2XETn6se"
      }
    },
    {
      "cell_type": "code",
      "source": [
        "dict1={};\n",
        "\n",
        "for i in range(5):\n",
        "    key1=int(input(\"Enter key1: \"));\n",
        "    dict1[key1]={};\n",
        "    key2=int(input(\"Enter key2: \"));\n",
        "    val=input(\"Enter value: \");\n",
        "    dict1[key1][key2]=val;\n",
        "print(dict1);"
      ],
      "metadata": {
        "colab": {
          "base_uri": "https://localhost:8080/"
        },
        "id": "iiKkijYhoGhn",
        "outputId": "61bdb2a8-80c5-4c3a-9518-c8b833492dde"
      },
      "execution_count": null,
      "outputs": [
        {
          "output_type": "stream",
          "name": "stdout",
          "text": [
            "Enter key1: 1\n",
            "Enter key2: 1\n",
            "Enter value: one\n",
            "Enter key1: 2\n",
            "Enter key2: 2\n",
            "Enter value: two\n",
            "Enter key1: 3\n",
            "Enter key2: 3\n",
            "Enter value: three\n",
            "Enter key1: 4\n",
            "Enter key2: 4\n",
            "Enter value: four\n",
            "Enter key1: 5\n",
            "Enter key2: 5\n",
            "Enter value: five\n",
            "{1: {1: 'one'}, 2: {2: 'two'}, 3: {3: 'three'}, 4: {4: 'four'}, 5: {5: 'five'}}\n"
          ]
        }
      ]
    },
    {
      "cell_type": "markdown",
      "source": [
        "35. Write a python program to sort the dictionary according to both keys and values."
      ],
      "metadata": {
        "id": "F__h4KBtoXhn"
      }
    },
    {
      "cell_type": "code",
      "source": [
        "dict1={};\n",
        "n=int(input(\"Enter n: \"));\n",
        "\n",
        "for i in range(n):\n",
        "    key=int(input(\"Enter key: \"));\n",
        "    val=input(\"Enter value: \");\n",
        "    dict1[key]=val;\n",
        "lst=list(dict1.keys());\n",
        "lst.sort();\n",
        "dict2={}\n",
        "for a in lst:\n",
        "    dict2[a]=dict1.get(a);\n",
        "print(dict2);\n",
        "\n",
        "lst2=list(dict1.values());\n",
        "lst2.sort();\n",
        "dict3={}\n",
        "for a in lst2:\n",
        "    for b in dict1:\n",
        "        if dict1[b]==a:\n",
        "            dict3[b]=a;\n",
        "print(dict3);"
      ],
      "metadata": {
        "colab": {
          "base_uri": "https://localhost:8080/"
        },
        "id": "8hztUy7Aolte",
        "outputId": "21d4bb45-d022-479b-b6d2-7ef472583de8"
      },
      "execution_count": null,
      "outputs": [
        {
          "output_type": "stream",
          "name": "stdout",
          "text": [
            "Enter n: 3\n",
            "Enter key: 3\n",
            "Enter value: three\n",
            "Enter key: 1\n",
            "Enter value: one\n",
            "Enter key: 2\n",
            "Enter value: two\n",
            "{1: 'one', 2: 'two', 3: 'three'}\n",
            "{1: 'one', 3: 'three', 2: 'two'}\n"
          ]
        }
      ]
    }
  ]
}